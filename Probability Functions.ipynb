{
 "metadata": {
  "name": "",
  "signature": "sha256:eb5b1454ac6b94aa8bdbbd6bd7a3e37e87cf2f9e633423b7f15059b3ecfbed8f"
 },
 "nbformat": 3,
 "nbformat_minor": 0,
 "worksheets": [
  {
   "cells": [
    {
     "cell_type": "code",
     "collapsed": false,
     "input": [
      "import pandas as pd\n",
      "import numpy as np\n",
      "import matplotlib.pyplot as plt\n",
      "import networkx as nx\n",
      "import brewer2mpl\n",
      "import colorsys\n",
      "import math\n",
      "\n",
      "from datetime import datetime\n",
      "from Bio import AlignIO, SeqIO\n",
      "from Bio.SeqRecord import SeqRecord\n",
      "from Bio.Seq import Seq\n",
      "from Levenshtein import distance\n",
      "from itertools import combinations, product, permutations\n",
      "from time import time\n",
      "from __future__ import division\n",
      "from collections import Counter\n",
      "from copy import deepcopy\n",
      "from random import shuffle, choice, sample\n",
      "from scipy.stats.mstats import mquantiles\n",
      "from scipy.stats import norm, expon, poisson\n",
      "from scipy.misc import comb\n",
      "from IPython.display import Math\n",
      "%matplotlib inline"
     ],
     "language": "python",
     "metadata": {},
     "outputs": [],
     "prompt_number": 13
    },
    {
     "cell_type": "code",
     "collapsed": false,
     "input": [
      "bases = ['t', 'c', 'a', 'g']\n",
      "codons = [a+b+c for a in bases for b in bases for c in bases]\n",
      "amino_acids = \"F F L L S S S S Y Y * * C C * W L L L L P P P P H H Q Q R R R R I I I M T T T T N N K K S S R R V V V V A A A A D D E E G G G G\".split(' ')\n",
      "codon_table = dict(zip(codons, amino_acids)) \n",
      "codon_table"
     ],
     "language": "python",
     "metadata": {},
     "outputs": [
      {
       "metadata": {},
       "output_type": "pyout",
       "prompt_number": 40,
       "text": [
        "{'aaa': 'K',\n",
        " 'aac': 'N',\n",
        " 'aag': 'K',\n",
        " 'aat': 'N',\n",
        " 'aca': 'T',\n",
        " 'acc': 'T',\n",
        " 'acg': 'T',\n",
        " 'act': 'T',\n",
        " 'aga': 'R',\n",
        " 'agc': 'S',\n",
        " 'agg': 'R',\n",
        " 'agt': 'S',\n",
        " 'ata': 'I',\n",
        " 'atc': 'I',\n",
        " 'atg': 'M',\n",
        " 'att': 'I',\n",
        " 'caa': 'Q',\n",
        " 'cac': 'H',\n",
        " 'cag': 'Q',\n",
        " 'cat': 'H',\n",
        " 'cca': 'P',\n",
        " 'ccc': 'P',\n",
        " 'ccg': 'P',\n",
        " 'cct': 'P',\n",
        " 'cga': 'R',\n",
        " 'cgc': 'R',\n",
        " 'cgg': 'R',\n",
        " 'cgt': 'R',\n",
        " 'cta': 'L',\n",
        " 'ctc': 'L',\n",
        " 'ctg': 'L',\n",
        " 'ctt': 'L',\n",
        " 'gaa': 'E',\n",
        " 'gac': 'D',\n",
        " 'gag': 'E',\n",
        " 'gat': 'D',\n",
        " 'gca': 'A',\n",
        " 'gcc': 'A',\n",
        " 'gcg': 'A',\n",
        " 'gct': 'A',\n",
        " 'gga': 'G',\n",
        " 'ggc': 'G',\n",
        " 'ggg': 'G',\n",
        " 'ggt': 'G',\n",
        " 'gta': 'V',\n",
        " 'gtc': 'V',\n",
        " 'gtg': 'V',\n",
        " 'gtt': 'V',\n",
        " 'taa': '*',\n",
        " 'tac': 'Y',\n",
        " 'tag': '*',\n",
        " 'tat': 'Y',\n",
        " 'tca': 'S',\n",
        " 'tcc': 'S',\n",
        " 'tcg': 'S',\n",
        " 'tct': 'S',\n",
        " 'tga': '*',\n",
        " 'tgc': 'C',\n",
        " 'tgg': 'W',\n",
        " 'tgt': 'C',\n",
        " 'tta': 'L',\n",
        " 'ttc': 'F',\n",
        " 'ttg': 'L',\n",
        " 'ttt': 'F'}"
       ]
      }
     ],
     "prompt_number": 40
    },
    {
     "cell_type": "code",
     "collapsed": false,
     "input": [
      "def prob_q_mutations_in_one_codon(n_amino_acids, m_mutations, q_mutations):\n",
      "    \"\"\"\n",
      "    Given n amino acids, what is the probability of q mutations occurring in one codon out of a total of m mutations available?\n",
      "    \n",
      "    This function can be integrated into a larger framework where q_mutations_in_codon is the edit distance between\n",
      "    two codons.\n",
      "    \n",
      "    Parameters:\n",
      "    - n_amino_acids: the length of the protein in amino acids.\n",
      "    - m_mutations: the number of mutations that happen in total.\n",
      "    - q_mutations: the number of mutations that happen in the codon.\n",
      "    \"\"\"\n",
      "    \n",
      "    return comb(n_amino_acids * 3 - 3, m_mutations - q_mutations) / comb(n_amino_acids * 3, m_mutations)\n",
      "\n",
      "prob_q_mutations_in_one_codon(n_amino_acids=719, m_mutations=10, q_mutations=2)"
     ],
     "language": "python",
     "metadata": {},
     "outputs": [
      {
       "metadata": {},
       "output_type": "pyout",
       "prompt_number": 23,
       "text": [
        "1.9280947751649017e-05"
       ]
      }
     ],
     "prompt_number": 23
    },
    {
     "cell_type": "code",
     "collapsed": false,
     "input": [
      "letters = {'a', 't', 'g', 'c'}\n",
      "transition_matrix = dict()\n",
      "\n",
      "for l1, in letters:\n",
      "    transition_matrix[l1] = dict()\n",
      "    for l2 in letters:\n",
      "        if l1 != l2:\n",
      "            transition_matrix[l1][l2] = 1/3\n",
      "            \n",
      "def prob_transition(l1, l2, transition_matrix):\n",
      "    return transition_matrix[l1][l2]\n",
      "\n",
      "prob_transition(l1='a',l2='c',transition_matrix=transition_matrix)"
     ],
     "language": "python",
     "metadata": {},
     "outputs": [
      {
       "metadata": {},
       "output_type": "pyout",
       "prompt_number": 24,
       "text": [
        "0.3333333333333333"
       ]
      }
     ],
     "prompt_number": 24
    },
    {
     "cell_type": "code",
     "collapsed": false,
     "input": [
      "def prob_m_mutations(time, mutation_rate, n_amino_acids, m_mutations):\n",
      "    \"\"\"\n",
      "    Probability of m substitutions happening within a specified period.\n",
      "    \n",
      "    Parameters:\n",
      "    - time: in years\n",
      "    - mutation_rate: in units substitutions/(site.year)\n",
      "    - n_amino_acids: the length of the protein in number of amino acids.\n",
      "    - m_mutations: the number of substitutions whose likelihood is to be queried.\n",
      "    \"\"\"\n",
      "    return poisson(int(time * mutation_rate * n_amino_acids * 3)).pmf(m_mutations)\n",
      "\n",
      "prob_m_mutations(time=2, mutation_rate=0.005, n_amino_acids=719, m_mutations=24)"
     ],
     "language": "python",
     "metadata": {},
     "outputs": [
      {
       "metadata": {},
       "output_type": "pyout",
       "prompt_number": 34,
       "text": [
        "0.071115757056855564"
       ]
      }
     ],
     "prompt_number": 34
    },
    {
     "cell_type": "code",
     "collapsed": false,
     "input": [
      "def prob_mutate_codon(codon1, codon2, n_amino_acids, m_mutations, time, mutation_rate, transition_matrix):\n",
      "    \"\"\"\n",
      "    Probability of mutating from one codon to the next.\n",
      "    \n",
      "    Parameters:\n",
      "    - codon1, codon2: string of 3 nucleotides.\n",
      "    - n_amino_acids: the length of the protein in amino acids.\n",
      "    - m_mutations: the number of mutations that happen in total.\n",
      "    - time: an integer, the number of years.\n",
      "    - mutation_rate: in units substitutions/(site.year).\n",
      "    - transition_matrix: the mutation transition matrix.\n",
      "    \"\"\"\n",
      "    \n",
      "    q_mutations = distance(codon1, codon2)\n",
      "    \n",
      "    p_q = prob_q_mutations_in_one_codon(n_amino_acids, m_mutations, q_mutations)\n",
      "    \n",
      "    p_ts = []\n",
      "    for l1, l2 in zip(codon1, codon2):\n",
      "        if l1 != l2:\n",
      "            p_ts.append(prob_transition(l1, l2, transition_matrix))\n",
      "    p_t = np.prod(p_ts)\n",
      "    \n",
      "    p_m = prob_m_mutations(time, mutation_rate, n_amino_acids, m_mutations)\n",
      "    \n",
      "#     total_prob = 0\n",
      "#     for p in [p_q, p_t, p_m]:\n",
      "#         if p != 0:\n",
      "#             total_prob += math.log10(p)\n",
      "\n",
      "    return p_q * p_t * p_m"
     ],
     "language": "python",
     "metadata": {},
     "outputs": [],
     "prompt_number": 93
    },
    {
     "cell_type": "code",
     "collapsed": false,
     "input": [
      "def prob_mutate_codon_aa(codon1, aa2, codon_table, n_amino_acids, m_mutations, time, mutation_rate, transition_matrix):\n",
      "    \"\"\"\n",
      "    Probability of mutation from one codon to another amino acid.\n",
      "    \n",
      "    Parameters:\n",
      "    - codon1: a three letter nucleotide string, small caps please.\n",
      "    - aa2: a single letter amino acid string, LARGE CAPS PLEASE.\n",
      "    - codon_table: a dictionary containing the codons and their corresponding amino acids.\n",
      "    - n_amino_acids: the number of amino acids present in the protein.\n",
      "    - m_mutations: the number of mutations specified.\n",
      "    - time: in years.\n",
      "    - mutation_rate: in units substitutions/(site.year)\n",
      "    - transition_matrix: the mutation transition matrix.\n",
      "    \"\"\"\n",
      "    \n",
      "    codons = [codon for codon, aa in codon_table.items() if aa == aa2]\n",
      "    \n",
      "    probability = 0\n",
      "    for codon2 in codons:\n",
      "        probability += prob_mutate_codon(codon1, codon2, n_amino_acids, m_mutations, time, mutation_rate, transition_matrix)\n",
      "        \n",
      "    return probability\n",
      "\n",
      "prob_mutate_codon_aa('ctg', 'S', codon_table, n_amino_acids=719, m_mutations=24, time=2, mutation_rate=0.005, transition_matrix=transition_matrix)"
     ],
     "language": "python",
     "metadata": {},
     "outputs": [
      {
       "metadata": {},
       "output_type": "pyout",
       "prompt_number": 94,
       "text": [
        "1.2505533988888068e-06"
       ]
      }
     ],
     "prompt_number": 94
    },
    {
     "cell_type": "code",
     "collapsed": false,
     "input": [
      "codon1 = 'atc'\n",
      "codon2 = 'ggc'\n",
      "\n",
      "for l1, l2 in zip(codon1, codon2):\n",
      "    if l1 != l2:\n",
      "        print(prob_transition(l1, l2, transition_matrix))"
     ],
     "language": "python",
     "metadata": {},
     "outputs": [
      {
       "output_type": "stream",
       "stream": "stdout",
       "text": [
        "0.333333333333\n",
        "0.333333333333\n"
       ]
      }
     ],
     "prompt_number": 95
    },
    {
     "cell_type": "code",
     "collapsed": false,
     "input": [
      "prob_mutate_codon(codon1='atc', codon2='ggc', n_amino_acids=719, m_mutations=24, time=2, mutation_rate=0.005, transition_matrix=transition_matrix)"
     ],
     "language": "python",
     "metadata": {},
     "outputs": [
      {
       "metadata": {},
       "output_type": "pyout",
       "prompt_number": 96,
       "text": [
        "9.2834004634451908e-07"
       ]
      }
     ],
     "prompt_number": 96
    },
    {
     "cell_type": "code",
     "collapsed": false,
     "input": [
      "codon1 = 'caa'\n",
      "aa2 = 'K'\n",
      "n_amino_acids = 719\n",
      "# m_mutations = range(1, 719)\n",
      "time = 10\n",
      "mutation_rate = 0.005\n",
      "transition_matrix = transition_matrix\n",
      "\n",
      "likelihoods = []\n",
      "for time in range(1, 10):\n",
      "    for m_mutations in range(0, n_amino_acids * 3):\n",
      "        prob = prob_mutate_codon_aa(codon1, aa2, codon_table, n_amino_acids, m_mutations, time, mutation_rate, transition_matrix)\n",
      "        if math.isnan(prob) == False:\n",
      "            likelihoods.append(prob)\n",
      "            \n",
      "    print(time)"
     ],
     "language": "python",
     "metadata": {},
     "outputs": [
      {
       "output_type": "stream",
       "stream": "stdout",
       "text": [
        "1\n",
        "2"
       ]
      },
      {
       "output_type": "stream",
       "stream": "stdout",
       "text": [
        "\n",
        "3"
       ]
      },
      {
       "output_type": "stream",
       "stream": "stdout",
       "text": [
        "\n",
        "4"
       ]
      },
      {
       "output_type": "stream",
       "stream": "stdout",
       "text": [
        "\n",
        "5"
       ]
      },
      {
       "output_type": "stream",
       "stream": "stdout",
       "text": [
        "\n",
        "6"
       ]
      },
      {
       "output_type": "stream",
       "stream": "stdout",
       "text": [
        "\n",
        "7"
       ]
      },
      {
       "output_type": "stream",
       "stream": "stdout",
       "text": [
        "\n",
        "8"
       ]
      },
      {
       "output_type": "stream",
       "stream": "stdout",
       "text": [
        "\n",
        "9"
       ]
      },
      {
       "output_type": "stream",
       "stream": "stdout",
       "text": [
        "\n"
       ]
      }
     ],
     "prompt_number": 122
    },
    {
     "cell_type": "code",
     "collapsed": false,
     "input": [
      "np.sum(likelihoods)"
     ],
     "language": "python",
     "metadata": {},
     "outputs": [
      {
       "metadata": {},
       "output_type": "pyout",
       "prompt_number": 123,
       "text": [
        "0.071096159023333216"
       ]
      }
     ],
     "prompt_number": 123
    },
    {
     "cell_type": "code",
     "collapsed": false,
     "input": [
      "time = 14\n",
      "likelihoods = []\n",
      "for m_mutations in range(0, n_amino_acids * 3):\n",
      "    prob = prob_mutate_codon_aa(codon1, aa2, codon_table, n_amino_acids, m_mutations, time, mutation_rate, transition_matrix)\n",
      "    if math.isnan(prob) == False:\n",
      "        likelihoods.append(prob)\n",
      "        \n",
      "np.sum(likelihoods)"
     ],
     "language": "python",
     "metadata": {},
     "outputs": [
      {
       "metadata": {},
       "output_type": "pyout",
       "prompt_number": 119,
       "text": [
        "0.021230868413448168"
       ]
      }
     ],
     "prompt_number": 119
    },
    {
     "cell_type": "code",
     "collapsed": false,
     "input": [
      "sum_likelihoods = []\n",
      "for time in range(1, 5):\n",
      "    likelihoods = []\n",
      "    for m_mutations in range(0, n_amino_acids * 3):\n",
      "        prob = prob_mutate_codon_aa(codon1, aa2, codon_table, n_amino_acids, m_mutations, time, mutation_rate, transition_matrix)\n",
      "        if math.isnan(prob) == False:\n",
      "            likelihoods.append(prob)\n",
      "        \n",
      "    sum_likelihoods.append(np.sum(likelihoods))\n",
      "    print(time)\n",
      "    \n",
      "plt.plot(sum_likelihoods)"
     ],
     "language": "python",
     "metadata": {},
     "outputs": [
      {
       "output_type": "stream",
       "stream": "stdout",
       "text": [
        "1\n",
        "2"
       ]
      },
      {
       "output_type": "stream",
       "stream": "stdout",
       "text": [
        "\n",
        "3"
       ]
      },
      {
       "output_type": "stream",
       "stream": "stdout",
       "text": [
        "\n",
        "4"
       ]
      },
      {
       "output_type": "stream",
       "stream": "stdout",
       "text": [
        "\n"
       ]
      },
      {
       "metadata": {},
       "output_type": "pyout",
       "prompt_number": 121,
       "text": [
        "[<matplotlib.lines.Line2D at 0x112422b50>]"
       ]
      },
      {
       "metadata": {},
       "output_type": "display_data",
       "png": "[encoded data removed]",
       "text": [
        "<matplotlib.figure.Figure at 0x11255f550>"
       ]
      }
     ],
     "prompt_number": 121
    },
    {
     "cell_type": "code",
     "collapsed": false,
     "input": [],
     "language": "python",
     "metadata": {},
     "outputs": []
    }
   ],
   "metadata": {}
  }
 ]
}